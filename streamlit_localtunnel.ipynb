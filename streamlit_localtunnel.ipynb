{
 "cells": [
  {
   "cell_type": "code",
   "execution_count": 2,
   "id": "ea2a66f2-3c60-45c1-b89f-eb3b177561b3",
   "metadata": {},
   "outputs": [
    {
     "name": "stdout",
     "output_type": "stream",
     "text": [
      "Collecting streamlit\n",
      "  Using cached streamlit-1.21.0-py2.py3-none-any.whl (9.7 MB)\n",
      "Requirement already satisfied: requests>=2.4 in /opt/conda/lib/python3.7/site-packages (from streamlit) (2.28.2)\n",
      "Requirement already satisfied: pillow>=6.2.0 in /opt/conda/lib/python3.7/site-packages (from streamlit) (9.5.0)\n",
      "Requirement already satisfied: typing-extensions>=3.10.0.0 in /opt/conda/lib/python3.7/site-packages (from streamlit) (4.5.0)\n",
      "Collecting tzlocal>=1.1\n",
      "  Using cached tzlocal-4.3-py3-none-any.whl (20 kB)\n",
      "Requirement already satisfied: blinker>=1.0.0 in /opt/conda/lib/python3.7/site-packages (from streamlit) (1.6.2)\n",
      "Requirement already satisfied: pyarrow>=4.0 in /opt/conda/lib/python3.7/site-packages (from streamlit) (9.0.0)\n",
      "Requirement already satisfied: click>=7.0 in /opt/conda/lib/python3.7/site-packages (from streamlit) (8.1.3)\n",
      "Requirement already satisfied: toml in /opt/conda/lib/python3.7/site-packages (from streamlit) (0.10.2)\n",
      "Requirement already satisfied: pandas<2,>=0.25 in /opt/conda/lib/python3.7/site-packages (from streamlit) (1.3.5)\n",
      "Requirement already satisfied: watchdog in /opt/conda/lib/python3.7/site-packages (from streamlit) (3.0.0)\n",
      "Requirement already satisfied: gitpython!=3.1.19 in /opt/conda/lib/python3.7/site-packages (from streamlit) (3.1.31)\n",
      "Requirement already satisfied: pydeck>=0.1.dev5 in /opt/conda/lib/python3.7/site-packages (from streamlit) (0.8.1b0)\n",
      "Requirement already satisfied: protobuf<4,>=3.12 in /opt/conda/lib/python3.7/site-packages (from streamlit) (3.20.1)\n",
      "Requirement already satisfied: packaging>=14.1 in /opt/conda/lib/python3.7/site-packages (from streamlit) (23.0)\n",
      "Requirement already satisfied: tornado>=6.0.3 in /opt/conda/lib/python3.7/site-packages (from streamlit) (6.2)\n",
      "Requirement already satisfied: rich>=10.11.0 in /opt/conda/lib/python3.7/site-packages (from streamlit) (13.3.3)\n",
      "Requirement already satisfied: validators>=0.2 in /opt/conda/lib/python3.7/site-packages (from streamlit) (0.20.0)\n",
      "Requirement already satisfied: importlib-metadata>=1.4 in /opt/conda/lib/python3.7/site-packages (from streamlit) (6.0.1)\n",
      "Requirement already satisfied: python-dateutil in /opt/conda/lib/python3.7/site-packages (from streamlit) (2.8.2)\n",
      "Requirement already satisfied: cachetools>=4.0 in /opt/conda/lib/python3.7/site-packages (from streamlit) (5.3.0)\n",
      "Collecting altair<5,>=3.2.0\n",
      "  Using cached altair-4.2.2-py3-none-any.whl (813 kB)\n",
      "Requirement already satisfied: pympler>=0.9 in /opt/conda/lib/python3.7/site-packages (from streamlit) (1.0.1)\n",
      "Requirement already satisfied: numpy in /opt/conda/lib/python3.7/site-packages (from streamlit) (1.21.6)\n",
      "Requirement already satisfied: jsonschema>=3.0 in /opt/conda/lib/python3.7/site-packages (from altair<5,>=3.2.0->streamlit) (4.17.3)\n",
      "Requirement already satisfied: jinja2 in /opt/conda/lib/python3.7/site-packages (from altair<5,>=3.2.0->streamlit) (3.1.2)\n",
      "Requirement already satisfied: entrypoints in /opt/conda/lib/python3.7/site-packages (from altair<5,>=3.2.0->streamlit) (0.4)\n",
      "Requirement already satisfied: toolz in /opt/conda/lib/python3.7/site-packages (from altair<5,>=3.2.0->streamlit) (0.12.0)\n",
      "Requirement already satisfied: gitdb<5,>=4.0.1 in /opt/conda/lib/python3.7/site-packages (from gitpython!=3.1.19->streamlit) (4.0.10)\n",
      "Requirement already satisfied: zipp>=0.5 in /opt/conda/lib/python3.7/site-packages (from importlib-metadata>=1.4->streamlit) (3.15.0)\n",
      "Requirement already satisfied: pytz>=2017.3 in /opt/conda/lib/python3.7/site-packages (from pandas<2,>=0.25->streamlit) (2023.3)\n",
      "Requirement already satisfied: six>=1.5 in /opt/conda/lib/python3.7/site-packages (from python-dateutil->streamlit) (1.16.0)\n",
      "Requirement already satisfied: certifi>=2017.4.17 in /opt/conda/lib/python3.7/site-packages (from requests>=2.4->streamlit) (2022.12.7)\n",
      "Requirement already satisfied: urllib3<1.27,>=1.21.1 in /opt/conda/lib/python3.7/site-packages (from requests>=2.4->streamlit) (1.26.15)\n",
      "Requirement already satisfied: charset-normalizer<4,>=2 in /opt/conda/lib/python3.7/site-packages (from requests>=2.4->streamlit) (2.1.1)\n",
      "Requirement already satisfied: idna<4,>=2.5 in /opt/conda/lib/python3.7/site-packages (from requests>=2.4->streamlit) (3.4)\n",
      "Requirement already satisfied: markdown-it-py<3.0.0,>=2.2.0 in /opt/conda/lib/python3.7/site-packages (from rich>=10.11.0->streamlit) (2.2.0)\n",
      "Requirement already satisfied: pygments<3.0.0,>=2.13.0 in /opt/conda/lib/python3.7/site-packages (from rich>=10.11.0->streamlit) (2.15.0)\n",
      "Requirement already satisfied: backports.zoneinfo in /opt/conda/lib/python3.7/site-packages (from tzlocal>=1.1->streamlit) (0.2.1)\n",
      "Requirement already satisfied: pytz-deprecation-shim in /opt/conda/lib/python3.7/site-packages (from tzlocal>=1.1->streamlit) (0.1.0.post0)\n",
      "Requirement already satisfied: decorator>=3.4.0 in /opt/conda/lib/python3.7/site-packages (from validators>=0.2->streamlit) (5.1.1)\n",
      "Requirement already satisfied: smmap<6,>=3.0.1 in /opt/conda/lib/python3.7/site-packages (from gitdb<5,>=4.0.1->gitpython!=3.1.19->streamlit) (5.0.0)\n",
      "Requirement already satisfied: MarkupSafe>=2.0 in /opt/conda/lib/python3.7/site-packages (from jinja2->altair<5,>=3.2.0->streamlit) (2.1.1)\n",
      "Requirement already satisfied: pkgutil-resolve-name>=1.3.10 in /opt/conda/lib/python3.7/site-packages (from jsonschema>=3.0->altair<5,>=3.2.0->streamlit) (1.3.10)\n",
      "Requirement already satisfied: pyrsistent!=0.17.0,!=0.17.1,!=0.17.2,>=0.14.0 in /opt/conda/lib/python3.7/site-packages (from jsonschema>=3.0->altair<5,>=3.2.0->streamlit) (0.19.3)\n",
      "Requirement already satisfied: attrs>=17.4.0 in /opt/conda/lib/python3.7/site-packages (from jsonschema>=3.0->altair<5,>=3.2.0->streamlit) (22.2.0)\n",
      "Requirement already satisfied: importlib-resources>=1.4.0 in /opt/conda/lib/python3.7/site-packages (from jsonschema>=3.0->altair<5,>=3.2.0->streamlit) (5.12.0)\n",
      "Requirement already satisfied: mdurl~=0.1 in /opt/conda/lib/python3.7/site-packages (from markdown-it-py<3.0.0,>=2.2.0->rich>=10.11.0->streamlit) (0.1.2)\n",
      "Requirement already satisfied: tzdata in /opt/conda/lib/python3.7/site-packages (from pytz-deprecation-shim->tzlocal>=1.1->streamlit) (2023.3)\n",
      "Installing collected packages: tzlocal, altair, streamlit\n",
      "Successfully installed altair-4.2.2 streamlit-1.21.0 tzlocal-4.3\n"
     ]
    }
   ],
   "source": [
    "! pip install streamlit "
   ]
  },
  {
   "cell_type": "code",
   "execution_count": 7,
   "id": "05be66cb-9a81-43ec-9e95-06bfab5d3430",
   "metadata": {},
   "outputs": [],
   "source": [
    " #writefile app.py\n",
    "\n",
    "import streamlit as st\n",
    "st.write ('#hello World')\n",
    "st.write('## Run streamlit')\n"
   ]
  },
  {
   "cell_type": "code",
   "execution_count": 8,
   "id": "f84d263c-3e7e-4350-85a9-d2bc9cb64e36",
   "metadata": {},
   "outputs": [
    {
     "name": "stdout",
     "output_type": "stream",
     "text": [
      "\u001b[1G\u001b[0JNeed to install the following packages:\n",
      "  localtunnel@2.0.2\n",
      "Ok to proceed? (y) \u001b[20GUsage: streamlit run [OPTIONS] TARGET [ARGS]...\n",
      "Try 'streamlit run --help' for help.\n",
      "\n",
      "Error: Invalid value: File does not exist: app.py\n",
      "\u001b[37;40mnpm\u001b[0m \u001b[0m\u001b[36;40mnotice\u001b[0m\u001b[35m\u001b[0m \n",
      "\u001b[0m\u001b[37;40mnpm\u001b[0m \u001b[0m\u001b[36;40mnotice\u001b[0m\u001b[35m\u001b[0m New \u001b[33mminor\u001b[39m version of npm available! \u001b[31m9.5.0\u001b[39m -> \u001b[32m9.6.5\u001b[39m\n",
      "\u001b[0m\u001b[37;40mnpm\u001b[0m \u001b[0m\u001b[36;40mnotice\u001b[0m\u001b[35m\u001b[0m Changelog: \u001b[36mhttps://github.com/npm/cli/releases/tag/v9.6.5\u001b[39m\n",
      "\u001b[0m\u001b[37;40mnpm\u001b[0m \u001b[0m\u001b[36;40mnotice\u001b[0m\u001b[35m\u001b[0m Run \u001b[32mnpm install -g npm@9.6.5\u001b[39m to update!\n",
      "\u001b[0m\u001b[37;40mnpm\u001b[0m \u001b[0m\u001b[36;40mnotice\u001b[0m\u001b[35m\u001b[0m \n",
      "\u001b[0m\u001b[37;40mnpm\u001b[0m \u001b[0m\u001b[31;40mERR!\u001b[0m\u001b[35m\u001b[0m canceled\n",
      "\u001b[0m\n",
      "\u001b[37;40mnpm\u001b[0m \u001b[0m\u001b[31;40mERR!\u001b[0m\u001b[35m\u001b[0m A complete log of this run can be found in:\n",
      "\u001b[0m\u001b[37;40mnpm\u001b[0m \u001b[0m\u001b[31;40mERR!\u001b[0m\u001b[35m\u001b[0m     /home/jupyter/.npm/_logs/2023-04-26T13_47_38_034Z-debug-0.log\n",
      "\u001b[0m"
     ]
    }
   ],
   "source": [
    "!streamlit run app.py & npx localtunnel --port 8501"
   ]
  },
  {
   "cell_type": "code",
   "execution_count": 10,
   "id": "f30481a9-dafe-4d26-98d4-60870427ee49",
   "metadata": {},
   "outputs": [
    {
     "name": "stdout",
     "output_type": "stream",
     "text": [
      "Usage: streamlit run [OPTIONS] TARGET [ARGS]...\n",
      "Try 'streamlit run --help' for help.\n",
      "\n",
      "Error: Invalid value: File does not exist: streamlit_app.py\n"
     ]
    }
   ],
   "source": [
    "!streamlit run streamlit_app.py"
   ]
  },
  {
   "cell_type": "code",
   "execution_count": 11,
   "id": "bbbe6708-8e04-4bf9-851e-980238162b5c",
   "metadata": {},
   "outputs": [
    {
     "name": "stdout",
     "output_type": "stream",
     "text": [
      "\u001b[K\u001b[?25hm#################\u001b[0m\u001b[100;90m⠂\u001b[0m) ⠧ reify:y18n: \u001b[32;40mhttp\u001b[0m \u001b[35mfetch\u001b[0m GET 200 https://registry.npmjs.or\u001b[0m\u001b[K\n",
      "added 22 packages in 1s\n",
      "\n",
      "3 packages are looking for funding\n",
      "  run `npm fund` for details\n"
     ]
    }
   ],
   "source": [
    "!pip install -q streamlit\n",
    "!npm install localtunnel\n"
   ]
  },
  {
   "cell_type": "code",
   "execution_count": 12,
   "id": "aabb9f71-10d4-419d-bd62-0adb295920d0",
   "metadata": {},
   "outputs": [
    {
     "name": "stdout",
     "output_type": "stream",
     "text": [
      "\u001b[0mjupyter\u001b[0m\n",
      "\u001b[0m├── \u001b[40m\u001b[37mhttps://github.com/sponsors/RubenVerborgh\u001b[39m\u001b[49m\u001b[0m\n",
      "\u001b[0m│   └── follow-redirects@1.15.2\u001b[0m\n",
      "\u001b[0m└─┬ \u001b[40m\u001b[37mhttps://github.com/chalk/wrap-ansi?sponsor=1\u001b[39m\u001b[49m\u001b[0m\n",
      "\u001b[0m  │ └── wrap-ansi@7.0.0\u001b[0m\n",
      "\u001b[0m  └── \u001b[40m\u001b[37mhttps://github.com/chalk/ansi-styles?sponsor=1\u001b[39m\u001b[49m\u001b[0m\n",
      "\u001b[0m      └── ansi-styles@4.3.0\u001b[0m\n",
      "\u001b[0m\u001b[0m\n"
     ]
    }
   ],
   "source": [
    "! npm fund"
   ]
  },
  {
   "cell_type": "code",
   "execution_count": 13,
   "id": "01ca0f59-1990-4d87-b704-603f14ed7189",
   "metadata": {},
   "outputs": [
    {
     "name": "stdout",
     "output_type": "stream",
     "text": [
      "Writing app.py\n"
     ]
    }
   ],
   "source": [
    "%%writefile app.py\n",
    "\n",
    "import streamlit as st\n",
    "st.title('Hello world!')"
   ]
  },
  {
   "cell_type": "code",
   "execution_count": 16,
   "id": "3b0a64de-c575-4270-afda-0f0f1e1673e4",
   "metadata": {},
   "outputs": [
    {
     "name": "stdout",
     "output_type": "stream",
     "text": [
      "\n",
      "Collecting usage statistics. To deactivate, set browser.gatherUsageStats to False.\n",
      "\u001b[0m\n",
      "\u001b[0m\n",
      "\u001b[34m\u001b[1m  You can now view your Streamlit app in your browser.\u001b[0m\n",
      "\u001b[0m\n",
      "\u001b[34m  Network URL: \u001b[0m\u001b[1mhttp://10.128.0.4:8501\u001b[0m\n",
      "\u001b[34m  External URL: \u001b[0m\u001b[1mhttp://34.173.183.4:8501\u001b[0m\n",
      "\u001b[0m\n",
      "^C\n",
      "\u001b[34m  Stopping...\u001b[0m\n"
     ]
    }
   ],
   "source": [
    "!streamlit run app.py \n"
   ]
  },
  {
   "cell_type": "code",
   "execution_count": 17,
   "id": "85a4dd98-352d-41ee-b366-aa2098372f79",
   "metadata": {},
   "outputs": [
    {
     "name": "stdout",
     "output_type": "stream",
     "text": [
      "Usage: lt --port [num] <options>\n",
      "\n",
      "Options:\n",
      "  -p, --port                Internal HTTP server port                 [required]\n",
      "  -h, --host                Upstream server providing forwarding\n",
      "                                             [default: \"https://localtunnel.me\"]\n",
      "  -s, --subdomain           Request this subdomain\n",
      "  -l, --local-host          Tunnel traffic to this host instead of localhost,\n",
      "                            override Host header to this host\n",
      "      --local-https         Tunnel traffic to a local HTTPS server     [boolean]\n",
      "      --local-cert          Path to certificate PEM file for local HTTPS server\n",
      "      --local-key           Path to certificate key file for local HTTPS server\n",
      "      --local-ca            Path to certificate authority file for self-signed\n",
      "                            certificates\n",
      "      --allow-invalid-cert  Disable certificate checks for your local HTTPS\n",
      "                            server (ignore cert/key/ca options)        [boolean]\n",
      "  -o, --open                Opens the tunnel URL in your browser\n",
      "      --print-requests      Print basic request info                   [boolean]\n",
      "      --help                Show this help and exit                    [boolean]\n",
      "      --version             Show version number                        [boolean]\n",
      "\n",
      "Missing required argument: port\n"
     ]
    }
   ],
   "source": [
    "!npx localtunnel - port 8501"
   ]
  },
  {
   "cell_type": "code",
   "execution_count": 20,
   "id": "24b15769-9a53-4bb4-b3db-ce7802323099",
   "metadata": {},
   "outputs": [
    {
     "name": "stdout",
     "output_type": "stream",
     "text": [
      "your url is: https://clever-beans-retire-34-173-183-4.loca.lt\n",
      "\n",
      "Collecting usage statistics. To deactivate, set browser.gatherUsageStats to False.\n",
      "\u001b[0m\n",
      "\u001b[0m\n",
      "\u001b[34m\u001b[1m  You can now view your Streamlit app in your browser.\u001b[0m\n",
      "\u001b[0m\n",
      "\u001b[34m  Network URL: \u001b[0m\u001b[1mhttp://10.128.0.4:8501\u001b[0m\n",
      "\u001b[34m  External URL: \u001b[0m\u001b[1mhttp://34.173.183.4:8501\u001b[0m\n",
      "\u001b[0m\n",
      "^C\n",
      "\u001b[34m  Stopping...\u001b[0m\n"
     ]
    }
   ],
   "source": [
    "!streamlit run app.py & npx localtunnel --port 8501\n"
   ]
  },
  {
   "cell_type": "code",
   "execution_count": 22,
   "id": "362db71d-5501-4f04-a422-1daa28464716",
   "metadata": {},
   "outputs": [
    {
     "name": "stdout",
     "output_type": "stream",
     "text": [
      "\u001b[31mERROR: Ignored the following versions that require a different python version: 1.2.1 Requires-Python >=3.8.0; 1.2.2 Requires-Python >=3.8.0; 1.2.3 Requires-Python >=3.8.0; 1.2.4 Requires-Python >=3.8.0; 1.2.5 Requires-Python >=3.8.0; 1.2.6 Requires-Python >=3.8.0; 1.2.7 Requires-Python >=3.8.0\u001b[0m\u001b[31m\n",
      "\u001b[0m\u001b[31mERROR: Could not find a version that satisfies the requirement github (from versions: none)\u001b[0m\u001b[31m\n",
      "\u001b[0m\u001b[31mERROR: No matching distribution found for github\u001b[0m\u001b[31m\n",
      "\u001b[0m"
     ]
    }
   ],
   "source": [
    "! pip install github"
   ]
  },
  {
   "cell_type": "code",
   "execution_count": null,
   "id": "f494b5e3-a37b-4a1e-b41e-700f882bfd90",
   "metadata": {},
   "outputs": [],
   "source": []
  }
 ],
 "metadata": {
  "environment": {
   "kernel": "python3",
   "name": "tf2-gpu.2-8.m107",
   "type": "gcloud",
   "uri": "gcr.io/deeplearning-platform-release/tf2-gpu.2-8:m107"
  },
  "kernelspec": {
   "display_name": "Python 3 (ipykernel)",
   "language": "python",
   "name": "python3"
  },
  "language_info": {
   "codemirror_mode": {
    "name": "ipython",
    "version": 3
   },
   "file_extension": ".py",
   "mimetype": "text/x-python",
   "name": "python",
   "nbconvert_exporter": "python",
   "pygments_lexer": "ipython3",
   "version": "3.7.12"
  }
 },
 "nbformat": 4,
 "nbformat_minor": 5
}
